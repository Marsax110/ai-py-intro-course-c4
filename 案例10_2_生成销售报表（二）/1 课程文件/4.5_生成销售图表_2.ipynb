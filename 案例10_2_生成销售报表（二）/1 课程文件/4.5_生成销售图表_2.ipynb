{
 "cells": [
  {
   "cell_type": "markdown",
   "metadata": {},
   "source": [
    "## 0. 在豆包 MarsCode 上安装中文字体\n",
    "- 如果你是在自己的Mac 或 Windows 电脑中运行，不需要考虑下面的中文字体安装"
   ]
  },
  {
   "cell_type": "code",
   "metadata": {},
   "source": [
    "# 仅用于在豆包 MarsCode IDE 或其他在线IDE 所处的Linux环境中安装中文字体\n",
    "\n",
    "# 以下命令用于更新系统软件包列表，目的是确保系统拥有最新的软件包版本信息\n",
    "!sudo apt-get update\n",
    "# 以下命令用于安装文泉驿-点阵正黑字体，这是一种开源中文字体，常用于支持中文显示\n",
    "!sudo apt-get install -y fonts-wqy-zenhei\n",
    "# 以下命令用于安装Noto CJK字体，这是一种Google开发的开源字体，支持多种东亚语言，包括中文、日文和韩文\n",
    "!sudo apt-get install -y fonts-noto-cjk"
   ],
   "outputs": [],
   "execution_count": null
  },
  {
   "cell_type": "markdown",
   "metadata": {},
   "source": [
    "## 1. 定义文件变量\n",
    "- 左侧项目文件夹（1 课程文件）中的“销售报表.xlsx”\n",
    "- 鼠标右键点击后，选择“复制路径”\n",
    "- 因为第一行是合并单元格的标题，所以读取时要将第二行作为表头，即header=1（第一行是 0，第二行是 1，以此类推）"
   ]
  },
  {
   "cell_type": "code",
   "metadata": {},
   "source": "",
   "outputs": [],
   "execution_count": null
  },
  {
   "cell_type": "markdown",
   "metadata": {},
   "source": "## 2. 读取excel文件"
  },
  {
   "cell_type": "code",
   "metadata": {},
   "source": "",
   "outputs": [],
   "execution_count": null
  },
  {
   "cell_type": "markdown",
   "metadata": {},
   "source": [
    "## 3. 绘制图表\n",
    "- 要使用 plotly，需要先安装它。在`终端`中输入以下命令：\n",
    "```pip install plotly```\n",
    "- 在生成表头前，记得导入 plotly"
   ]
  },
  {
   "cell_type": "code",
   "metadata": {},
   "source": [
    "# 或者直接在代码单元（Code Cell）中运行以下代码\n",
    "! pip install plotly"
   ],
   "outputs": [],
   "execution_count": null
  },
  {
   "metadata": {},
   "cell_type": "code",
   "source": "",
   "outputs": [],
   "execution_count": null
  },
  {
   "cell_type": "markdown",
   "metadata": {},
   "source": [
    "### 3.1 基于“大类名称”和“201504”绘制矩形树图\n",
    "- 对于“构成”类图表（饼图、环图、矩形树图），需要指定分类和数值，分别对应在哪个列\n",
    "- 图表要求：\n",
    "    - 显示标题\n",
    "    - 每个大类的值的数字和占比\n",
    "    - 设置图形的尺寸"
   ]
  },
  {
   "metadata": {},
   "cell_type": "code",
   "outputs": [],
   "execution_count": null,
   "source": ""
  },
  {
   "cell_type": "markdown",
   "metadata": {},
   "source": [
    "### 3.2 基于“大类名称”和“201504”绘制柱装图\n",
    "- 对于“比较”类图表（折线图、条形图），需要指定 X 轴和 Y 轴，分别对应在哪个列\n",
    "- 图表要求：\n",
    "    - 显示标题，居中\n",
    "    - 在柱的顶部显示值，显示为整数\n",
    "    - 更新 Y 轴的名称\n",
    "    - 设置图形的尺寸"
   ]
  },
  {
   "metadata": {},
   "cell_type": "code",
   "outputs": [],
   "execution_count": null,
   "source": ""
  },
  {
   "cell_type": "markdown",
   "metadata": {},
   "source": [
    "### 3.3 对“日配”的多月销售记录绘制折线图\n",
    "- 对于“比较”类图表（折线图、条形图），需要指定 X 轴和 Y 轴，分别对应在哪个列\n",
    "- 图表要求：\n",
    "    - 显示标题\n",
    "    - 设置图形的尺寸\n",
    "    - 更新 x 轴和 Y 轴的名称"
   ]
  },
  {
   "metadata": {},
   "cell_type": "code",
   "outputs": [],
   "execution_count": null,
   "source": ""
  },
  {
   "cell_type": "markdown",
   "metadata": {},
   "source": [
    "### 3.4 基于“大类名称”和多月数据绘制分组柱状图\n",
    "- 对于“比较”类图表（折线图、条形图），需要指定 X 轴和 Y 轴，分别对应在哪个列\n",
    "- 对于柱状图，可以设置柱子之间的关系，例如并列、堆叠\n",
    "- 图表要求：\n",
    "    - 显示标题，居中\n",
    "    - 在柱的顶部显示值，显示为整数\n",
    "    - 更新 Y 轴的名称\n",
    "    - 设置图形的尺寸"
   ]
  },
  {
   "metadata": {},
   "cell_type": "code",
   "outputs": [],
   "execution_count": null,
   "source": ""
  },
  {
   "cell_type": "markdown",
   "metadata": {},
   "source": [
    "## 4. 绘制复杂图表\n",
    "- 在图中增加第二个 Y 轴\n",
    "- 在图中增加子图"
   ]
  },
  {
   "cell_type": "markdown",
   "metadata": {},
   "source": [
    "### 4.1 比较 201503 和 201504 的销售额，在第二个 Y 轴中展示环比\n",
    "- 对于“比较”类图表（折线图、条形图），需要指定 X 轴和 Y 轴，分别对应在哪个列\n",
    "- 对于柱状图，可以设置柱子之间的关系，例如并列、堆叠\n",
    "- 可以增加第二个 Y 轴，用于显示来展示更多维度的变化趋势\n",
    "- 图表要求：\n",
    "    - 柱图部分并列展示\n",
    "    - 使用折线图展示“环比”，并在第二个 Y 轴中展示"
   ]
  },
  {
   "metadata": {},
   "cell_type": "code",
   "outputs": [],
   "execution_count": null,
   "source": ""
  },
  {
   "cell_type": "markdown",
   "metadata": {},
   "source": [
    "### 4.2 比较 201503 和 201504 的销售额，使用柱状子图展示环比的变化情况\n",
    "- 子图可以上下排列也可以左右排列\n",
    "- 可以选择共用坐标轴，便于比较\n",
    "- 图表要求：\n",
    "    - 两个子图上下排列，共用 X 轴\n",
    "    - 第二个子图是柱状图，展示环比变化，正值为绿色，负值为红色"
   ]
  },
  {
   "metadata": {},
   "cell_type": "code",
   "outputs": [],
   "execution_count": null,
   "source": ""
  },
  {
   "cell_type": "markdown",
   "metadata": {},
   "source": [
    "## 5. 将图表保存到 Excel文件中\n",
    "- 可以将图表保存为保存为图片文件，填入到 Excel 文件中\n",
    "- 可能需要安装`Pillow`\n",
    "- 要使用`Pillow`，需要先安装它。在`终端`中输入以下命令：\n",
    "```pip install pillow```\n",
    "- 安装后可能需要点击顶部的`Restart`重启内核，要不然会继续报错"
   ]
  },
  {
   "cell_type": "code",
   "metadata": {},
   "source": [
    "# 或者直接在代码单元（Code Cell）中运行以下代码\n",
    "! pip install pillow"
   ],
   "outputs": [],
   "execution_count": null
  },
  {
   "cell_type": "code",
   "metadata": {},
   "source": [],
   "outputs": [],
   "execution_count": null
  }
 ],
 "metadata": {
  "kernelspec": {
   "display_name": "Python 3",
   "language": "python",
   "name": "python3"
  },
  "language_info": {
   "codemirror_mode": {
    "name": "ipython",
    "version": 3
   },
   "file_extension": ".py",
   "mimetype": "text/x-python",
   "name": "python",
   "nbconvert_exporter": "python",
   "pygments_lexer": "ipython3",
   "version": "3.12.2"
  }
 },
 "nbformat": 4,
 "nbformat_minor": 2
}
