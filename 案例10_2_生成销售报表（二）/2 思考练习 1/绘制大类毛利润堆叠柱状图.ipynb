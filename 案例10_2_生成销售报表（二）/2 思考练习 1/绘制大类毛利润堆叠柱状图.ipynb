{
 "cells": [
  {
   "metadata": {},
   "cell_type": "markdown",
   "source": [
    "### 案例 10：生成销售报表（八）\n",
    "\n",
    "#### 思考练习题：绘制大类毛利润堆叠柱状图\n",
    "\n",
    "**题目：**\n",
    "\n",
    "- 在本课中，我们学习了如何生成数据的可视化图表。\n",
    "- 现在的练习题中，你需要绘制一个堆叠柱状图，以月份为X轴，展示每个月所有大类商品的毛利润总和。堆叠柱状图的每一部分代表不同大类商品的毛利润，通过对比各个月的柱图高度，分析毛利润的变化趋势。\n",
    "- 请你尝试调整代码，利用可视化工具（如plotly或其他库），绘制出符合要求的堆叠柱状图。\n",
    "\n",
    "**思考内容：**\n",
    "\n",
    "- 如何向AI描述这个需求，即以月份为X轴，按大类商品的毛利润进行堆叠，并绘制柱状图？\n",
    "- 如何准备合适的数据，以生成这个图表？哪些列作为 X 轴，哪些列作为 Y 轴？\n",
    "- 在实现堆叠柱状图时，如何对每个月的大类毛利润进行汇总，并按月分组堆叠显示？\n",
    "- 如何选择合适的颜色方案，使堆叠的不同大类商品毛利润部分易于区分？\n",
    "\n",
    "---\n",
    "\n",
    "**注：** 以上思考内容可以尝试与AI互动，探索如何有效地利用堆叠柱状图进行多维度的毛利润分析，提升数据的可视化效果和分析的深度。\n"
   ],
   "id": "f2c22b035cfae4f0"
  },
  {
   "cell_type": "code",
   "execution_count": null,
   "id": "initial_id",
   "metadata": {
    "collapsed": true
   },
   "outputs": [],
   "source": [
    ""
   ]
  }
 ],
 "metadata": {
  "kernelspec": {
   "display_name": "Python 3",
   "language": "python",
   "name": "python3"
  },
  "language_info": {
   "codemirror_mode": {
    "name": "ipython",
    "version": 2
   },
   "file_extension": ".py",
   "mimetype": "text/x-python",
   "name": "python",
   "nbconvert_exporter": "python",
   "pygments_lexer": "ipython2",
   "version": "2.7.6"
  }
 },
 "nbformat": 4,
 "nbformat_minor": 5
}
