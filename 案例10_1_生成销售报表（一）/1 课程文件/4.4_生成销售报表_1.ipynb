{
 "cells": [
  {
   "metadata": {},
   "cell_type": "markdown",
   "source": "## 1、定义变量",
   "id": "7de3dd7e10ad81e1"
  },
  {
   "cell_type": "code",
   "execution_count": null,
   "id": "initial_id",
   "metadata": {
    "collapsed": true
   },
   "outputs": [],
   "source": [
    ""
   ]
  },
  {
   "metadata": {},
   "cell_type": "markdown",
   "source": "## 2、读取 Excel 文件，形成 df",
   "id": "be4b2aa22517f527"
  },
  {
   "metadata": {},
   "cell_type": "code",
   "outputs": [],
   "execution_count": null,
   "source": "",
   "id": "6c09a7fdf6ce7c59"
  },
  {
   "metadata": {},
   "cell_type": "markdown",
   "source": "## 3、将后续做为索引的字段转换为字符串类型",
   "id": "ef649579e62444f2"
  },
  {
   "metadata": {},
   "cell_type": "code",
   "outputs": [],
   "execution_count": null,
   "source": "",
   "id": "f65f28d8158c2896"
  },
  {
   "metadata": {},
   "cell_type": "markdown",
   "source": [
    "## 4、创建透视表\n",
    "### 4.1、 对透视表进行数据处理"
   ],
   "id": "2278cfa19250b7eb"
  },
  {
   "metadata": {},
   "cell_type": "code",
   "outputs": [],
   "execution_count": null,
   "source": "",
   "id": "3a0fc8c91a24159d"
  },
  {
   "metadata": {},
   "cell_type": "markdown",
   "source": "### 4.2、 新增一列计算“环比”",
   "id": "94b4c8ae91af24a0"
  },
  {
   "metadata": {},
   "cell_type": "code",
   "outputs": [],
   "execution_count": null,
   "source": "",
   "id": "300e86b7f7a3d7af"
  },
  {
   "metadata": {},
   "cell_type": "markdown",
   "source": [
    "## 5、将透视表保存到 Excel 并设置格式\n",
    "### 5.1、回到顶部单元定义输出文件的地址变量\n",
    "### 5.2、将透视表保存到 Excel"
   ],
   "id": "2ec95fdcdd927b47"
  },
  {
   "metadata": {},
   "cell_type": "code",
   "outputs": [],
   "execution_count": null,
   "source": "",
   "id": "107a478b67aa7b75"
  },
  {
   "metadata": {},
   "cell_type": "markdown",
   "source": [
    "### 5.3、开始设置表格格式\n",
    "- 在最前方增加一行\n",
    "- 对第一行做单元格合并\n",
    "- 在合并单元格中插入标题，并设置格式和字号\n",
    "- 设置第一行和第二行的格式\n",
    "- 对环比列设置数字格式\n",
    "- 对环比列设置小于 0 时的背景色\n",
    "- 为表格增加边框\n",
    "- 保存 Excel 文件"
   ],
   "id": "3987e8feb8833e77"
  },
  {
   "metadata": {},
   "cell_type": "code",
   "outputs": [],
   "execution_count": null,
   "source": "",
   "id": "714f01abdd7c18b9"
  },
  {
   "metadata": {},
   "cell_type": "markdown",
   "source": "",
   "id": "14a315f657992829"
  }
 ],
 "metadata": {
  "kernelspec": {
   "display_name": "Python 3",
   "language": "python",
   "name": "python3"
  },
  "language_info": {
   "codemirror_mode": {
    "name": "ipython",
    "version": 2
   },
   "file_extension": ".py",
   "mimetype": "text/x-python",
   "name": "python",
   "nbconvert_exporter": "python",
   "pygments_lexer": "ipython2",
   "version": "2.7.6"
  }
 },
 "nbformat": 4,
 "nbformat_minor": 5
}
