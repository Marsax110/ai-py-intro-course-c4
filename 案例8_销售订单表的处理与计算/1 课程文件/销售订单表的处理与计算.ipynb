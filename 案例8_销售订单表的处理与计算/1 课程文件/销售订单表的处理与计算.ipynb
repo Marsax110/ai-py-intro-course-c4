{
 "cells": [
  {
   "metadata": {},
   "cell_type": "markdown",
   "source": "## 1、 定义两个文件的路径变量",
   "id": "77d4735aee3213af"
  },
  {
   "cell_type": "code",
   "execution_count": null,
   "id": "initial_id",
   "metadata": {
    "collapsed": true
   },
   "outputs": [],
   "source": [
    ""
   ]
  },
  {
   "metadata": {},
   "cell_type": "markdown",
   "source": "### 1.1、读取商品订单表",
   "id": "f7bac9f766cf295b"
  },
  {
   "metadata": {},
   "cell_type": "code",
   "outputs": [],
   "execution_count": null,
   "source": "",
   "id": "8347cddd08d97898"
  },
  {
   "metadata": {},
   "cell_type": "markdown",
   "source": "## 2、检查数据完整性",
   "id": "861f425fdab0bf14"
  },
  {
   "metadata": {},
   "cell_type": "code",
   "outputs": [],
   "execution_count": null,
   "source": "",
   "id": "3fef4e94ea81a9b"
  },
  {
   "metadata": {},
   "cell_type": "markdown",
   "source": "### 2.1、移除不必要的行",
   "id": "e213db77a9a0ae7b"
  },
  {
   "metadata": {},
   "cell_type": "code",
   "outputs": [],
   "execution_count": null,
   "source": "",
   "id": "8b51e789511b9345"
  },
  {
   "metadata": {},
   "cell_type": "markdown",
   "source": "### 2.2、 用数据提取做“销售月份”的缺失值补充",
   "id": "3bb2cdc09e25c77d"
  },
  {
   "metadata": {},
   "cell_type": "code",
   "outputs": [],
   "execution_count": null,
   "source": "",
   "id": "b839a2817643f491"
  },
  {
   "metadata": {},
   "cell_type": "markdown",
   "source": "### 2.3、 用数据计算做“銷售金额”的缺失值补充",
   "id": "ee93713e0b0e8ec"
  },
  {
   "metadata": {},
   "cell_type": "markdown",
   "source": "### 2.2、 用数据提取做“销售月份”的缺失值补充",
   "id": "d921825eb147ccf8"
  },
  {
   "metadata": {},
   "cell_type": "code",
   "outputs": [],
   "execution_count": null,
   "source": "",
   "id": "908f2e9e5c5f005c"
  },
  {
   "metadata": {},
   "cell_type": "markdown",
   "source": "### 2.4、用数据查询做“销售金额”的缺失值补充",
   "id": "4852bd4701f2780f"
  },
  {
   "metadata": {},
   "cell_type": "code",
   "outputs": [],
   "execution_count": null,
   "source": "",
   "id": "b6922c0e3de5c529"
  },
  {
   "metadata": {},
   "cell_type": "markdown",
   "source": "## 3、 用关联查询，获取“进货价”",
   "id": "313f22253028642c"
  },
  {
   "metadata": {},
   "cell_type": "markdown",
   "source": [
    "### 3.1 读取商品进价表\n",
    "- 注意检查是否存在缺失值"
   ],
   "id": "bb207a279b8fe805"
  },
  {
   "metadata": {},
   "cell_type": "code",
   "outputs": [],
   "execution_count": null,
   "source": "",
   "id": "18534800c4dee16f"
  },
  {
   "metadata": {},
   "cell_type": "markdown",
   "source": "### 3.2、 用左连接获取对应“商品编码”的进货价",
   "id": "7fb9fe0b8d3e6ba1"
  },
  {
   "metadata": {},
   "cell_type": "code",
   "outputs": [],
   "execution_count": null,
   "source": "",
   "id": "ceb7e6f02dd0f4b"
  },
  {
   "metadata": {},
   "cell_type": "markdown",
   "source": "### 3.3 检查是否出现因左连接导致的数据膨胀",
   "id": "c018258d20412ada"
  },
  {
   "metadata": {},
   "cell_type": "code",
   "outputs": [],
   "execution_count": null,
   "source": "",
   "id": "3909a868501c12d3"
  },
  {
   "metadata": {},
   "cell_type": "markdown",
   "source": "## 4、构建新列",
   "id": "de48d8bbd6dbb524"
  },
  {
   "metadata": {},
   "cell_type": "markdown",
   "source": "### 4.1、基干“进货价”和“商品单价”，直接计算“毛利率”",
   "id": "50c9fd89813c8700"
  },
  {
   "metadata": {},
   "cell_type": "code",
   "outputs": [],
   "execution_count": null,
   "source": "",
   "id": "811790e516d14763"
  },
  {
   "metadata": {},
   "cell_type": "markdown",
   "source": "### 4.2、基于“销售金额”、“进货价”和“销售数量”，直接计算“毛利润”",
   "id": "a6bd7fe7faf466aa"
  },
  {
   "metadata": {},
   "cell_type": "code",
   "outputs": [],
   "execution_count": null,
   "source": "",
   "id": "77b1fce7aaa1b424"
  },
  {
   "metadata": {},
   "cell_type": "markdown",
   "source": "### 4.3、创建Excel公式，计算“毛利率”",
   "id": "106ddb98427015df"
  },
  {
   "metadata": {},
   "cell_type": "code",
   "outputs": [],
   "execution_count": null,
   "source": "",
   "id": "af9e20892dfd951d"
  },
  {
   "metadata": {},
   "cell_type": "markdown",
   "source": "",
   "id": "a80e44875c9fe70a"
  },
  {
   "metadata": {},
   "cell_type": "markdown",
   "source": "### 4.4、创建Excel公式，计算“毛利润”",
   "id": "e5527fe2d4ebbd9d"
  },
  {
   "metadata": {},
   "cell_type": "code",
   "outputs": [],
   "execution_count": null,
   "source": "",
   "id": "4faa18d9b4be21d0"
  },
  {
   "metadata": {},
   "cell_type": "markdown",
   "source": "## 5、输出到 Excel 文件",
   "id": "a15040e9c3a3b780"
  },
  {
   "metadata": {},
   "cell_type": "code",
   "outputs": [],
   "execution_count": null,
   "source": "",
   "id": "24f66f7cb36c690d"
  }
 ],
 "metadata": {
  "kernelspec": {
   "display_name": "Python 3",
   "language": "python",
   "name": "python3"
  },
  "language_info": {
   "codemirror_mode": {
    "name": "ipython",
    "version": 2
   },
   "file_extension": ".py",
   "mimetype": "text/x-python",
   "name": "python",
   "nbconvert_exporter": "python",
   "pygments_lexer": "ipython2",
   "version": "2.7.6"
  }
 },
 "nbformat": 4,
 "nbformat_minor": 5
}
