{
 "cells": [
  {
   "metadata": {},
   "cell_type": "markdown",
   "source": [
    "### 案例8_销售订单表的处理与计算\n",
    "\n",
    "#### 思考练习题：构建“优惠金额”公式列\n",
    "\n",
    "**题目：**\n",
    "\n",
    "- 在此前的销售订单表的处理与计算课程中，我们学会了如何通过数据计算商品的销售额。\n",
    "- 现在的练习题中，你需要构建一个新的公式列来计算“优惠金额”。具体要求是，当“是否促销”列为“是”时，基于销售金额、销售数量和商品单价计算出“优惠金额”；当“是否促销”列为“否”时，这里不显示任何内容。\n",
    "- 请你尝试调整代码，使其能够动态生成这个公式列，并计算每一行的优惠金额。\n",
    "\n",
    "**思考内容：**\n",
    "\n",
    "- 如何向AI描述这个需求，即根据“是否促销”来生成计算“优惠金额”的公式列？\n",
    "\n",
    "- 如何构建出一个基于条件的公式？具体来说，这个公式应该如何结合是否促销，销售金额、销售数量和商品单价这三个因素进行计算？\n",
    "\n",
    "- 如何优化公式的生成和应用逻辑，使其适用于更复杂的业务场景？\n",
    "\n",
    "---\n",
    "\n",
    "**注：** 以上思考内容可以尝试与AI互动，探索如何优化条件判断逻辑，并根据不同场景处理不同的计算需求。\n"
   ],
   "id": "8cfde22920182f3c"
  },
  {
   "cell_type": "code",
   "execution_count": null,
   "id": "initial_id",
   "metadata": {
    "collapsed": true
   },
   "outputs": [],
   "source": [
    ""
   ]
  }
 ],
 "metadata": {
  "kernelspec": {
   "display_name": "Python 3",
   "language": "python",
   "name": "python3"
  },
  "language_info": {
   "codemirror_mode": {
    "name": "ipython",
    "version": 2
   },
   "file_extension": ".py",
   "mimetype": "text/x-python",
   "name": "python",
   "nbconvert_exporter": "python",
   "pygments_lexer": "ipython2",
   "version": "2.7.6"
  }
 },
 "nbformat": 4,
 "nbformat_minor": 5
}
