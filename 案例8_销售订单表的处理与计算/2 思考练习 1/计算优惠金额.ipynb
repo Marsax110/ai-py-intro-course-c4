{
 "cells": [
  {
   "metadata": {},
   "cell_type": "markdown",
   "source": [
    "### 案例8_销售订单表的处理与计算\n",
    "\n",
    "#### 思考练习题：计算“优惠金额”\n",
    "\n",
    "**题目：**\n",
    "\n",
    "- 在此前的销售订单表的处理与计算课程中，我们学会了如何通过数据计算不同商品的销售额。\n",
    "\n",
    "- 现在的练习题中，你需要计算促销商品的“优惠金额”。当“是否促销”列为“是”时，基于销售金额、销售数量和商品单价来计算“优惠金额”；而当“是否促销”列为“否”时，不进行计算，显示为空。\n",
    "\n",
    "- 请你尝试调整代码，使其能够自动识别是否促销的商品并计算优惠金额。\n",
    "\n",
    "\n",
    "**思考内容：**\n",
    "\n",
    "- 如何向AI描述这个判断逻辑，即基于是否促销来决定是否计算优惠金额？\n",
    "\n",
    "- 在计算优惠金额时，如何利用销售金额、销售数量和商品单价这三个因素？\n",
    "\n",
    "- 在Excel数据处理中，类似的基于条件计算字段（如促销折扣、满减优惠等）还有哪些可能性，pandas能提供哪些工具来实现这些条件计算？\n",
    "\n",
    "- 如果数据中存在部分错误的促销标识或价格异常，如何增强代码的鲁棒性（鲁棒性是指程序在面对不正确输入或异常情况时能够正确运行而不崩溃或产生不可预测的结果），以应对这些情况？\n",
    "\n",
    "---\n",
    "\n",
    "**注：** 以上思考内容可以尝试与AI互动，探索如何优化条件判断逻辑，并根据不同场景处理不同的计算需求。\n"
   ],
   "id": "393165d32b19e6eb"
  },
  {
   "cell_type": "code",
   "id": "initial_id",
   "metadata": {
    "collapsed": true,
    "ExecuteTime": {
     "end_time": "2024-09-12T03:14:24.191178Z",
     "start_time": "2024-09-12T03:14:24.188194Z"
    }
   },
   "source": "",
   "outputs": [],
   "execution_count": null
  }
 ],
 "metadata": {
  "kernelspec": {
   "display_name": "Python 3",
   "language": "python",
   "name": "python3"
  },
  "language_info": {
   "codemirror_mode": {
    "name": "ipython",
    "version": 2
   },
   "file_extension": ".py",
   "mimetype": "text/x-python",
   "name": "python",
   "nbconvert_exporter": "python",
   "pygments_lexer": "ipython2",
   "version": "2.7.6"
  }
 },
 "nbformat": 4,
 "nbformat_minor": 5
}
