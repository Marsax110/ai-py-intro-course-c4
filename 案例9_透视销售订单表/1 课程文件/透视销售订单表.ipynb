{
 "cells": [
  {
   "metadata": {},
   "cell_type": "markdown",
   "source": "## 1、设置变量",
   "id": "3cb39fb27c8f4730"
  },
  {
   "cell_type": "code",
   "id": "initial_id",
   "metadata": {
    "collapsed": true,
    "ExecuteTime": {
     "end_time": "2024-09-12T03:19:29.699380Z",
     "start_time": "2024-09-12T03:19:29.696765Z"
    }
   },
   "source": "",
   "outputs": [],
   "execution_count": 1
  },
  {
   "metadata": {},
   "cell_type": "markdown",
   "source": "## 2、读取 Excel 文件",
   "id": "5a9403e7f4d77e00"
  },
  {
   "metadata": {},
   "cell_type": "code",
   "outputs": [],
   "execution_count": null,
   "source": "",
   "id": "9de4629c969445ff"
  },
  {
   "metadata": {},
   "cell_type": "markdown",
   "source": "## 3、筛选数据",
   "id": "edc121e6c718a917"
  },
  {
   "metadata": {},
   "cell_type": "code",
   "outputs": [],
   "execution_count": null,
   "source": "",
   "id": "db367acfb046113"
  },
  {
   "metadata": {},
   "cell_type": "markdown",
   "source": "## 4、数据分箱",
   "id": "8ace0ecb9e909639"
  },
  {
   "metadata": {},
   "cell_type": "code",
   "outputs": [],
   "execution_count": null,
   "source": "",
   "id": "7d9a96c1e0fb45a3"
  },
  {
   "metadata": {},
   "cell_type": "markdown",
   "source": "### 4.1、对字段进行描述性统计\n",
   "id": "17dfdcf98b757466"
  },
  {
   "metadata": {},
   "cell_type": "code",
   "outputs": [],
   "execution_count": null,
   "source": "",
   "id": "ee8c9e1c333f444"
  },
  {
   "metadata": {},
   "cell_type": "markdown",
   "source": "### 4.2、设置分箱的边界条件",
   "id": "383de0a9cc81e617"
  },
  {
   "metadata": {},
   "cell_type": "code",
   "outputs": [],
   "execution_count": null,
   "source": "",
   "id": "4cbf9b943006fef9"
  },
  {
   "metadata": {},
   "cell_type": "markdown",
   "source": "## 5、数据聚合",
   "id": "31b26b25b6d88264"
  },
  {
   "metadata": {},
   "cell_type": "code",
   "outputs": [],
   "execution_count": null,
   "source": "",
   "id": "497ce653347c7665"
  },
  {
   "metadata": {},
   "cell_type": "markdown",
   "source": "## 6、数据透视表",
   "id": "21ac1251b3bde065"
  },
  {
   "metadata": {},
   "cell_type": "code",
   "outputs": [],
   "execution_count": null,
   "source": "",
   "id": "683d8b8a85659cee"
  },
  {
   "metadata": {},
   "cell_type": "markdown",
   "source": "### 6.1、多重行索引透视表",
   "id": "a02c7825d9873f91"
  },
  {
   "metadata": {},
   "cell_type": "code",
   "outputs": [],
   "execution_count": null,
   "source": "",
   "id": "c5a82a64eb0bf372"
  },
  {
   "metadata": {},
   "cell_type": "markdown",
   "source": "### 6.2、交叉轴索引的透视表",
   "id": "563b582da9814e43"
  },
  {
   "metadata": {},
   "cell_type": "code",
   "outputs": [],
   "execution_count": null,
   "source": "",
   "id": "7f4e94b84776c0be"
  },
  {
   "metadata": {},
   "cell_type": "markdown",
   "source": "### 6.3、基于时间维度的透视表",
   "id": "6c9809c66e46669f"
  },
  {
   "metadata": {},
   "cell_type": "code",
   "outputs": [],
   "execution_count": null,
   "source": "",
   "id": "7ca1891a17388db9"
  },
  {
   "metadata": {},
   "cell_type": "markdown",
   "source": [
    "## 7、数据转换\n",
    "### 7.1、列转行（宽格式转长格式）"
   ],
   "id": "c140d93bd3a8cc23"
  },
  {
   "metadata": {},
   "cell_type": "code",
   "outputs": [],
   "execution_count": null,
   "source": "",
   "id": "92dcd9397f3f0e93"
  },
  {
   "metadata": {},
   "cell_type": "markdown",
   "source": "### 7.2、行转列（长格式转宽格式）",
   "id": "9f2b91da34509566"
  },
  {
   "metadata": {},
   "cell_type": "code",
   "outputs": [],
   "execution_count": null,
   "source": "",
   "id": "1a6576479083db0a"
  }
 ],
 "metadata": {
  "kernelspec": {
   "display_name": "Python 3",
   "language": "python",
   "name": "python3"
  },
  "language_info": {
   "codemirror_mode": {
    "name": "ipython",
    "version": 2
   },
   "file_extension": ".py",
   "mimetype": "text/x-python",
   "name": "python",
   "nbconvert_exporter": "python",
   "pygments_lexer": "ipython2",
   "version": "2.7.6"
  }
 },
 "nbformat": 4,
 "nbformat_minor": 5
}
